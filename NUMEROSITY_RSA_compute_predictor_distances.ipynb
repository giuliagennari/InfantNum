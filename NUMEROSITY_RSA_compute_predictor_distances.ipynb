{
 "cells": [
  {
   "cell_type": "code",
   "execution_count": 1,
   "metadata": {},
   "outputs": [],
   "source": [
    "import numpy as np\n",
    "import math\n",
    "import pandas as pd\n",
    "from statsmodels.stats.outliers_influence import variance_inflation_factor \n",
    "from scipy.spatial.distance import squareform\n",
    "from sklearn.preprocessing import StandardScaler"
   ]
  },
  {
   "cell_type": "code",
   "execution_count": 2,
   "metadata": {},
   "outputs": [],
   "source": [
    "import matplotlib.pyplot as plt\n",
    "import seaborn as sns"
   ]
  },
  {
   "cell_type": "code",
   "execution_count": null,
   "metadata": {},
   "outputs": [],
   "source": [
    "save_path = \"\""
   ]
  },
  {
   "cell_type": "markdown",
   "metadata": {},
   "source": [
    "#### RSA theoretical matrices - 4vs12 at sequence offset"
   ]
  },
  {
   "cell_type": "code",
   "execution_count": 3,
   "metadata": {},
   "outputs": [],
   "source": [
    "cond_instr_8 = ['fMc', 'fMv', 'fLc', 'fLv','tSc', 'tSv', 'tMc', 'tMv']\n",
    "\n",
    "num_dict = {'fMc':4, 'fLc':4, 'tSc':12, 'tMc':12,\n",
    "             'fMv':4, 'fLv':4, 'tSv':12, 'tMv':12}\n",
    "num_dist = []\n",
    "for c1 in range(len(cond_instr_8)-1):\n",
    "    for c2 in range(min(c1 + 1, len(cond_instr_8)-1), len(cond_instr_8)):\n",
    "        #print(cond_instr_8[c1], cond_instr_8[c2])\n",
    "        pair_dist = abs(math.log10(num_dict[cond_instr_8[c1]]) - math.log10(num_dict[cond_instr_8[c2]]))\n",
    "        num_dist.append(pair_dist)\n",
    "#np.save(save_path+\"number_DM_8cond\", arr=np.asarray(num_dist))\n",
    "\n",
    "rate_dict = {'fMc':5.56, 'fLc':1.85, 'tSc':16.67, 'tMc':5.56,\n",
    "             'fMv':5.56, 'fLv':1.85, 'tSv':16.67, 'tMv':5.56}\n",
    "rate_dist = []\n",
    "for c1 in range(len(cond_instr_8)-1):\n",
    "    for c2 in range(min(c1 + 1, len(cond_instr_8)-1), len(cond_instr_8)):\n",
    "        pair_dist = abs(math.log10(rate_dict[cond_instr_8[c1]]) - math.log10(rate_dict[cond_instr_8[c2]]))\n",
    "        rate_dist.append(pair_dist)\n",
    "#np.save(save_path+\"rate_DM_8cond\", arr=np.asarray(rate_dist))\n",
    "\n",
    "dur_dict = { 'fMc':720, 'fLc':2160, 'tSc':720, 'tMc':2160,\n",
    "           'fMv':720, 'fLv':2160, 'tSv':720, 'tMv':2160}\n",
    "dur_dist = []\n",
    "for c1 in range(len(cond_instr_8)-1):\n",
    "    for c2 in range(min(c1 + 1, len(cond_instr_8)-1), len(cond_instr_8)):\n",
    "        pair_dist = abs(math.log10(dur_dict[cond_instr_8[c1]]) - math.log10(dur_dict[cond_instr_8[c2]]))\n",
    "        dur_dist.append(pair_dist)\n",
    "#np.save(save_path+\"duration_DM_8cond\", arr=np.asarray(dur_dist))"
   ]
  },
  {
   "cell_type": "code",
   "execution_count": 4,
   "metadata": {},
   "outputs": [
    {
     "data": {
      "text/html": [
       "<div>\n",
       "<style scoped>\n",
       "    .dataframe tbody tr th:only-of-type {\n",
       "        vertical-align: middle;\n",
       "    }\n",
       "\n",
       "    .dataframe tbody tr th {\n",
       "        vertical-align: top;\n",
       "    }\n",
       "\n",
       "    .dataframe thead th {\n",
       "        text-align: right;\n",
       "    }\n",
       "</style>\n",
       "<table border=\"1\" class=\"dataframe\">\n",
       "  <thead>\n",
       "    <tr style=\"text-align: right;\">\n",
       "      <th></th>\n",
       "      <th>num</th>\n",
       "      <th>rate</th>\n",
       "      <th>dur</th>\n",
       "    </tr>\n",
       "  </thead>\n",
       "  <tbody>\n",
       "    <tr>\n",
       "      <th>num</th>\n",
       "      <td>1.000000</td>\n",
       "      <td>0.258199</td>\n",
       "      <td>-0.166667</td>\n",
       "    </tr>\n",
       "    <tr>\n",
       "      <th>rate</th>\n",
       "      <td>0.258199</td>\n",
       "      <td>1.000000</td>\n",
       "      <td>0.258199</td>\n",
       "    </tr>\n",
       "    <tr>\n",
       "      <th>dur</th>\n",
       "      <td>-0.166667</td>\n",
       "      <td>0.258199</td>\n",
       "      <td>1.000000</td>\n",
       "    </tr>\n",
       "  </tbody>\n",
       "</table>\n",
       "</div>"
      ],
      "text/plain": [
       "           num      rate       dur\n",
       "num   1.000000  0.258199 -0.166667\n",
       "rate  0.258199  1.000000  0.258199\n",
       "dur  -0.166667  0.258199  1.000000"
      ]
     },
     "execution_count": 4,
     "metadata": {},
     "output_type": "execute_result"
    }
   ],
   "source": [
    "## check for correlations\n",
    "features = np.stack((num_dist, rate_dist, dur_dist), axis=1)\n",
    "# standardize since this will be needed later in the analysis \n",
    "std_features = StandardScaler().fit_transform(features)\n",
    "std_features_df= pd.DataFrame(std_features, columns = ['num', 'rate', 'dur'])\n",
    "corr = std_features_df.corr()\n",
    "corr"
   ]
  },
  {
   "cell_type": "code",
   "execution_count": 5,
   "metadata": {},
   "outputs": [
    {
     "data": {
      "text/html": [
       "<div>\n",
       "<style scoped>\n",
       "    .dataframe tbody tr th:only-of-type {\n",
       "        vertical-align: middle;\n",
       "    }\n",
       "\n",
       "    .dataframe tbody tr th {\n",
       "        vertical-align: top;\n",
       "    }\n",
       "\n",
       "    .dataframe thead th {\n",
       "        text-align: right;\n",
       "    }\n",
       "</style>\n",
       "<table border=\"1\" class=\"dataframe\">\n",
       "  <thead>\n",
       "    <tr style=\"text-align: right;\">\n",
       "      <th></th>\n",
       "      <th>feature</th>\n",
       "      <th>VIF</th>\n",
       "    </tr>\n",
       "  </thead>\n",
       "  <tbody>\n",
       "    <tr>\n",
       "      <th>0</th>\n",
       "      <td>num</td>\n",
       "      <td>1.142857</td>\n",
       "    </tr>\n",
       "    <tr>\n",
       "      <th>1</th>\n",
       "      <td>rate</td>\n",
       "      <td>1.190476</td>\n",
       "    </tr>\n",
       "    <tr>\n",
       "      <th>2</th>\n",
       "      <td>dur</td>\n",
       "      <td>1.142857</td>\n",
       "    </tr>\n",
       "  </tbody>\n",
       "</table>\n",
       "</div>"
      ],
      "text/plain": [
       "  feature       VIF\n",
       "0     num  1.142857\n",
       "1    rate  1.190476\n",
       "2     dur  1.142857"
      ]
     },
     "execution_count": 5,
     "metadata": {},
     "output_type": "execute_result"
    }
   ],
   "source": [
    "## check for multicollinearity with VIF\n",
    "vif_data = pd.DataFrame() \n",
    "vif_data[\"feature\"] = std_features_df.columns \n",
    "# calculating VIF for each feature \n",
    "vif_data[\"VIF\"] = [variance_inflation_factor(std_features_df.values, i) \n",
    "                          for i in range(len(std_features_df.columns))] \n",
    "vif_data"
   ]
  },
  {
   "cell_type": "code",
   "execution_count": 6,
   "metadata": {},
   "outputs": [
    {
     "data": {
      "image/png": "[encoded data removed]",
      "text/plain": [
       "<Figure size 288x252 with 1 Axes>"
      ]
     },
     "metadata": {
      "needs_background": "light"
     },
     "output_type": "display_data"
    }
   ],
   "source": [
    "## example plot\n",
    "sns.set_context(\"talk\", rc={'xtick.labelsize': '16.0','ytick.labelsize': '16.0'})\n",
    "\n",
    "num_matrix = squareform(num_dist)\n",
    "\n",
    "fig, ax = plt.subplots(figsize=(4.,3.5))\n",
    "im = ax.matshow(num_matrix, cmap=sns.light_palette('xkcd:cranberry', as_cmap=True)) \n",
    "\n",
    "ax.set_yticks(range(len(cond_instr_8)))\n",
    "ax.set_yticklabels(cond_instr_8)\n",
    "ax.set_xticks(range(len(cond_instr_8)))\n",
    "ax.set_xticklabels(cond_instr_8, rotation = 90)\n",
    "\n",
    "ax.xaxis.set_ticks_position('bottom')\n",
    "plt.tick_params( pad=-5, which='both', bottom=False, left=False ) # labels along the bottom edge are on\n",
    "\n",
    "ax.set_title(\"number\", fontsize=20, style=\"italic\", weight='bold', color='k', y=1.0)\n",
    "\n",
    "plt.tight_layout()"
   ]
  },
  {
   "cell_type": "code",
   "execution_count": null,
   "metadata": {},
   "outputs": [],
   "source": []
  }
 ],
 "metadata": {
  "kernelspec": {
   "display_name": "Python 3 (ipykernel)",
   "language": "python",
   "name": "python3"
  },
  "language_info": {
   "codemirror_mode": {
    "name": "ipython",
    "version": 3
   },
   "file_extension": ".py",
   "mimetype": "text/x-python",
   "name": "python",
   "nbconvert_exporter": "python",
   "pygments_lexer": "ipython3",
   "version": "3.9.7"
  }
 },
 "nbformat": 4,
 "nbformat_minor": 2
}
